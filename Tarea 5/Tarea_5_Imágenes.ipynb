{
 "cells": [
  {
   "cell_type": "markdown",
   "metadata": {
    "heading_collapsed": true
   },
   "source": [
    "# Tarea 5: Clasificación de objetos usando CNNs\n",
    "\n",
    "**Ignacio Zurita Tapia**"
   ]
  },
  {
   "cell_type": "markdown",
   "metadata": {},
   "source": [
    "# Introducción\n",
    "\n",
    "El presente informe tiene como por objetivo familiarizarse con herramientas de aprendizaje automático en python (en específico con el framework pytorch), mediante la creación de redes neuronales convolucionales a partir de ciertas especificaciones de arquitectura, para abordar un problema de clasificación de imágenes.\n",
    "\n",
    "El dataset a utilizar corresponde a un fragmento del conjunto CIFAR10, el cual contiene imágenes de 32x32 pixeles, distribuidas en 10 clases. Así, para efectos de ésta tarea, los sets de entrenamiento, validación y prueba, corresponden a extractos 10000 imágenes cada uno.\n",
    "\n",
    "Con esto, se procede a enumerar las principales secciones del informe:\n",
    "\n",
    "- Lectura del dataset: Una vez descargado los archivos, éstos son leídos y almacenados en un objeto compatible con pytorch, a modo de facilitar el posterior entrenamiento.\n",
    "\n",
    "- Implementación red grande: Se implementa, entrena y evalúa una de las arquitecturas especificadas.\n",
    "- Implementación red pequeña: Se implementa, entrena y evalúa la segunda arquitectura pedida.\n",
    "\n"
   ]
  },
  {
   "cell_type": "markdown",
   "metadata": {
    "heading_collapsed": true,
    "id": "0o4y1i6cnV4P"
   },
   "source": [
    "# Descarga y descompresión de dataset\n",
    "\n"
   ]
  },
  {
   "cell_type": "code",
   "execution_count": null,
   "metadata": {
    "colab": {
     "base_uri": "https://localhost:8080/"
    },
    "hidden": true,
    "id": "A3KpLnHPVBNv",
    "outputId": "bf9fb2de-fbc6-4c0d-94d5-cf4d9b152aca"
   },
   "outputs": [
    {
     "name": "stdout",
     "output_type": "stream",
     "text": [
      "--2020-12-13 20:45:01--  https://www.cs.toronto.edu/~kriz/cifar-10-python.tar.gz\n",
      "Resolving www.cs.toronto.edu (www.cs.toronto.edu)... 128.100.3.30\n",
      "Connecting to www.cs.toronto.edu (www.cs.toronto.edu)|128.100.3.30|:443... connected.\n",
      "HTTP request sent, awaiting response... 200 OK\n",
      "Length: 170498071 (163M) [application/x-gzip]\n",
      "Saving to: ‘cifar-10-python.tar.gz’\n",
      "\n",
      "cifar-10-python.tar 100%[===================>] 162.60M  50.8MB/s    in 3.6s    \n",
      "\n",
      "2020-12-13 20:45:05 (45.8 MB/s) - ‘cifar-10-python.tar.gz’ saved [170498071/170498071]\n",
      "\n"
     ]
    }
   ],
   "source": [
    "!wget https://www.cs.toronto.edu/~kriz/cifar-10-python.tar.gz"
   ]
  },
  {
   "cell_type": "code",
   "execution_count": null,
   "metadata": {
    "hidden": true,
    "id": "b1lg7ENUVdrH"
   },
   "outputs": [],
   "source": [
    "!tar -xf /content/cifar-10-python.tar.gz"
   ]
  },
  {
   "cell_type": "code",
   "execution_count": null,
   "metadata": {
    "hidden": true,
    "id": "Qe2H7OE7nfp2"
   },
   "outputs": [],
   "source": [
    "import torch\n",
    "import torch.nn as nn\n",
    "import torch.nn.functional as F\n",
    "\n",
    "import pickle\n",
    "import matplotlib.pyplot as plt"
   ]
  },
  {
   "cell_type": "markdown",
   "metadata": {
    "heading_collapsed": true,
    "id": "kqvi3yclnhlG"
   },
   "source": [
    "# Lectura del dataset\n",
    "\n",
    "En primer lugar, para abrir los archivos del dataset, se tiene la función *unpickle*, la cual lee y retorna el diccionario correspondiente al archivo de entrada.\n",
    "\n",
    "Luego, para crear los dataset de entrenamiento, validación y prueba, se crean las clases CIFAR10 Train/Val/Test las cuales heredan de la clase Dataset del paquete torch.utils.data. De esta forma cada una de las clases, en su constructor lee el archivo respectivo, como se lista a continuación:\n",
    "\n",
    "- Train: data_batch_1\n",
    "- Val: data_batch_2\n",
    "- Test: test_batch\n",
    "\n",
    "Así, guarda en los atributos *images* y *labels*, todas las imágenes y etiquetas, respectivamente, de ese batch. \n",
    "\n",
    "Además, en cada caso, se reescalan las imágenes para que queden en el rango [-1,1], mediante la siguiente transformación:\n",
    "\n",
    "$$ I_t = I_o\\frac{2}{255} - 1$$\n",
    "\n",
    "con $I_t$ la imagen transformada, e $I_o $ la imagen original.\n",
    "\n",
    "Cabe destacar además, que cada imagen en el dataset viene en forma de vector de largo $W\\cdot H\\cdot C$, donde $W=32$ es el ancho, $H=32$ el largo y $C=3$ el número de canales de la imagen, por lo que es necesario hacer un reshape para que las imágenes queden de dimensiones (3,32,32)."
   ]
  },
  {
   "cell_type": "code",
   "execution_count": null,
   "metadata": {
    "hidden": true,
    "id": "oB_4kBhMV5R-"
   },
   "outputs": [],
   "source": [
    "def unpickle(file):\n",
    "    with open(file, 'rb') as fo:\n",
    "        dictionary = pickle.load(fo, encoding='latin1')\n",
    "    return dictionary"
   ]
  },
  {
   "cell_type": "code",
   "execution_count": null,
   "metadata": {
    "hidden": true,
    "id": "utSeH2G8VKYr"
   },
   "outputs": [],
   "source": [
    "from torch.utils.data import Dataset\n",
    "from sklearn.preprocessing import MinMaxScaler\n",
    "\n",
    "class CIFAR10Train(Dataset):\n",
    "  def __init__(self, path):\n",
    "    dictionary = unpickle(path + 'data_batch_1')\n",
    "    self.images = dictionary['data']\n",
    "    self.images = self.images.reshape(-1,3,32,32)\n",
    "    self.images = (torch.Tensor(self.images)*2)/255 -1\n",
    "    \n",
    "    #images = images.movedim(1,3)\n",
    "    self.labels = dictionary['labels']\n",
    "\n",
    "  def __len__(self):\n",
    "    return self.images.shape[0]\n",
    " \n",
    "  def __getitem__(self, index):\n",
    "    return self.labels[index], self.images[index]\n",
    "\n",
    "class CIFAR10Val(Dataset):\n",
    "  def __init__(self, path):\n",
    "    dictionary = unpickle(path + 'data_batch_2')\n",
    "    self.images = dictionary['data']\n",
    "    self.images = self.images.reshape(-1,3,32,32)\n",
    "    self.images = (torch.Tensor(self.images)*2)/255 -1\n",
    "    \n",
    "    #images = images.movedim(1,3)\n",
    "    self.labels = dictionary['labels']\n",
    "\n",
    "  def __len__(self):\n",
    "    return self.images.shape[0]\n",
    " \n",
    "  def __getitem__(self, index):\n",
    "    return self.labels[index], self.images[index]\n",
    "\n",
    "class CIFAR10Test(Dataset):\n",
    "  def __init__(self, path):\n",
    "    dictionary = unpickle(path + 'test_batch')\n",
    "    self.images = dictionary['data']\n",
    "    self.images = self.images.reshape(-1,3,32,32)\n",
    "    self.images = (torch.Tensor(self.images)*2)/255 -1\n",
    "    \n",
    "    #images = images.movedim(1,3)\n",
    "    self.labels = dictionary['labels']\n",
    "\n",
    "  def __len__(self):\n",
    "    return self.images.shape[0]\n",
    " \n",
    "  def __getitem__(self, index):\n",
    "    return self.labels[index], self.images[index]\n"
   ]
  },
  {
   "cell_type": "markdown",
   "metadata": {
    "hidden": true,
    "id": "Z1DzAQ_jDjnM"
   },
   "source": [
    "Se crean los distintos conjuntos y a partir de ellos se generan los dataloaders, los cuales son objetos iterables que permiten su lectura por batches, que en este caso son de tamaño 32.\n",
    "\n",
    "\n"
   ]
  },
  {
   "cell_type": "code",
   "execution_count": null,
   "metadata": {
    "hidden": true,
    "id": "cFKiWzJIoDSD"
   },
   "outputs": [],
   "source": [
    "from torch.utils.data import DataLoader, random_split\n",
    "batch_size = 32\n",
    "dataset_train = CIFAR10Train('/content/cifar-10-batches-py/')\n",
    "dataset_val = CIFAR10Val('/content/cifar-10-batches-py/')\n",
    "dataset_test = CIFAR10Test('/content/cifar-10-batches-py/')\n",
    "\n",
    "train_loader = DataLoader(dataset_train, batch_size=batch_size, shuffle=True, num_workers=4, pin_memory=True,)\n",
    "val_loader = DataLoader(dataset_val, batch_size=batch_size, shuffle=True, num_workers=4, pin_memory=True)\n",
    "test_loader = DataLoader(dataset_test, batch_size=batch_size, shuffle=True, num_workers=4, pin_memory=True)"
   ]
  },
  {
   "cell_type": "markdown",
   "metadata": {
    "heading_collapsed": true,
    "id": "2j7ZpTTknrnx"
   },
   "source": [
    "# Red grande\n",
    "\n",
    "Se crea la red grande a partir de la arquitectura especificada en el enunciado, considerando que se agregó una capa Flatten a la entrada de la primera capa fully conected, ya que la capa previa retornaba un tensor de dimensiones [B, 512, 2, 2], donde B es el tamaño del batch."
   ]
  },
  {
   "cell_type": "code",
   "execution_count": null,
   "metadata": {
    "hidden": true,
    "id": "PtdezOjJKAdQ"
   },
   "outputs": [],
   "source": [
    "class MyNetBig(nn.Module):\n",
    "\n",
    "  def __init__(self, nclasses):\n",
    "    super(MyNetBig, self).__init__()\n",
    "\n",
    "    self.nclasses = nclasses\n",
    "    self.conv1 = nn.Conv2d(3, 64, 3, padding = 1)\n",
    "    self.conv1_2 = nn.Conv2d(64, 64, 3, padding = 1)\n",
    "    self.conv2 = nn.Conv2d(64, 128, 3, padding = 1)\n",
    "    self.conv2_2 = nn.Conv2d(128, 128, 3, padding = 1)\n",
    "    self.conv3 = nn.Conv2d(128, 256, 3, padding = 1)\n",
    "    self.conv3_2 = nn.Conv2d(256, 256, 3, padding = 1)\n",
    "    self.conv4 = nn.Conv2d(256, 512, 3, padding = 1)\n",
    "    self.conv4_2 = nn.Conv2d(512, 512, 3, padding = 1)\n",
    "    self.bn1 = torch.nn.BatchNorm2d(64)\n",
    "    self.bn2 = torch.nn.BatchNorm2d(128)\n",
    "    self.bn3 = torch.nn.BatchNorm2d(256)\n",
    "    self.bn4 = torch.nn.BatchNorm2d(512)\n",
    "    \n",
    "    self.bn1_2 = torch.nn.BatchNorm2d(64)\n",
    "    self.bn2_2 = torch.nn.BatchNorm2d(128)\n",
    "    self.bn3_2 = torch.nn.BatchNorm2d(256)\n",
    "    self.bn4_2 = torch.nn.BatchNorm2d(512)\n",
    "\n",
    "    self.maxpool = torch.nn.MaxPool2d(2,2)\n",
    "    self.relu = nn.ReLU()\n",
    "    self.fc1 = nn.Linear(2048,128)\n",
    "    self.bn5 = torch.nn.BatchNorm1d(128)\n",
    "    self.fc2 = nn.Linear(128, 256)\n",
    "    self.bn6 = torch.nn.BatchNorm1d(256)\n",
    "    self.fc3 = nn.Linear(256, 512)\n",
    "    self.bn7 = torch.nn.BatchNorm1d(512)\n",
    "    self.fc4 = nn.Linear(512, 1024)\n",
    "    self.bn8 = torch.nn.BatchNorm1d(1024)\n",
    "    self.fc5 = nn.Linear(1024, self.nclasses)\n",
    "    self.softmax = nn.Softmax(dim=1)\n",
    "    self.flatten = nn.Flatten()\n",
    "     \n",
    "  def forward(self, x):\n",
    "   \n",
    "    x = self.bn1(self.relu(self.conv1(x)))\n",
    "    x = self.bn1_2(self.relu(self.conv1_2(x)))\n",
    "    x = self.maxpool(x)\n",
    "    x = self.bn2(self.relu(self.conv2(x)))\n",
    "    x = self.bn2_2(self.relu(self.conv2_2(x)))\n",
    "    x = self.maxpool(x)\n",
    "    x = self.bn3(self.relu(self.conv3(x)))\n",
    "    x = self.bn3_2(self.relu(self.conv3_2(x)))\n",
    "    x = self.maxpool(x)\n",
    "    x = self.bn4(self.relu(self.conv4(x)))\n",
    "    x = self.bn4_2(self.relu(self.conv4_2(x)))\n",
    "    x = self.maxpool(x)\n",
    "    x = self.bn5(self.relu(self.fc1(self.flatten(x))))\n",
    "    x = self.bn6(self.relu(self.fc2(x)))\n",
    "    x = self.bn7(self.relu(self.fc3(x)))\n",
    "    x = self.bn8(self.relu(self.fc4(x)))\n",
    "    x = self.fc5(x)\n",
    "    return x"
   ]
  },
  {
   "cell_type": "markdown",
   "metadata": {
    "hidden": true,
    "id": "StKLsLjKFvBm"
   },
   "source": [
    "A continuación, podemos observar un resumen de la red, la cual coincide con lo esperado"
   ]
  },
  {
   "cell_type": "code",
   "execution_count": null,
   "metadata": {
    "colab": {
     "base_uri": "https://localhost:8080/"
    },
    "hidden": true,
    "id": "qJlV6p97E_5t",
    "outputId": "2e51bf1a-40d9-445f-8517-0efc0ed921f0"
   },
   "outputs": [
    {
     "name": "stdout",
     "output_type": "stream",
     "text": [
      "----------------------------------------------------------------\n",
      "        Layer (type)               Output Shape         Param #\n",
      "================================================================\n",
      "            Conv2d-1           [-1, 64, 32, 32]           1,792\n",
      "       BatchNorm2d-2           [-1, 64, 32, 32]             128\n",
      "              ReLU-3           [-1, 64, 32, 32]               0\n",
      "            Conv2d-4           [-1, 64, 32, 32]          36,928\n",
      "       BatchNorm2d-5           [-1, 64, 32, 32]             128\n",
      "              ReLU-6           [-1, 64, 32, 32]               0\n",
      "         MaxPool2d-7           [-1, 64, 16, 16]               0\n",
      "            Conv2d-8          [-1, 128, 16, 16]          73,856\n",
      "       BatchNorm2d-9          [-1, 128, 16, 16]             256\n",
      "             ReLU-10          [-1, 128, 16, 16]               0\n",
      "           Conv2d-11          [-1, 128, 16, 16]         147,584\n",
      "      BatchNorm2d-12          [-1, 128, 16, 16]             256\n",
      "             ReLU-13          [-1, 128, 16, 16]               0\n",
      "        MaxPool2d-14            [-1, 128, 8, 8]               0\n",
      "           Conv2d-15            [-1, 256, 8, 8]         295,168\n",
      "      BatchNorm2d-16            [-1, 256, 8, 8]             512\n",
      "             ReLU-17            [-1, 256, 8, 8]               0\n",
      "           Conv2d-18            [-1, 256, 8, 8]         590,080\n",
      "      BatchNorm2d-19            [-1, 256, 8, 8]             512\n",
      "             ReLU-20            [-1, 256, 8, 8]               0\n",
      "        MaxPool2d-21            [-1, 256, 4, 4]               0\n",
      "           Conv2d-22            [-1, 512, 4, 4]       1,180,160\n",
      "      BatchNorm2d-23            [-1, 512, 4, 4]           1,024\n",
      "             ReLU-24            [-1, 512, 4, 4]               0\n",
      "           Conv2d-25            [-1, 512, 4, 4]       2,359,808\n",
      "      BatchNorm2d-26            [-1, 512, 4, 4]           1,024\n",
      "             ReLU-27            [-1, 512, 4, 4]               0\n",
      "        MaxPool2d-28            [-1, 512, 2, 2]               0\n",
      "          Flatten-29                 [-1, 2048]               0\n",
      "           Linear-30                  [-1, 128]         262,272\n",
      "      BatchNorm1d-31                  [-1, 128]             256\n",
      "             ReLU-32                  [-1, 128]               0\n",
      "           Linear-33                  [-1, 256]          33,024\n",
      "      BatchNorm1d-34                  [-1, 256]             512\n",
      "             ReLU-35                  [-1, 256]               0\n",
      "           Linear-36                  [-1, 512]         131,584\n",
      "      BatchNorm1d-37                  [-1, 512]           1,024\n",
      "             ReLU-38                  [-1, 512]               0\n",
      "           Linear-39                 [-1, 1024]         525,312\n",
      "      BatchNorm1d-40                 [-1, 1024]           2,048\n",
      "             ReLU-41                 [-1, 1024]               0\n",
      "           Linear-42                   [-1, 10]          10,250\n",
      "================================================================\n",
      "Total params: 5,655,498\n",
      "Trainable params: 5,655,498\n",
      "Non-trainable params: 0\n",
      "----------------------------------------------------------------\n",
      "Input size (MB): 0.01\n",
      "Forward/backward pass size (MB): 5.92\n",
      "Params size (MB): 21.57\n",
      "Estimated Total Size (MB): 27.50\n",
      "----------------------------------------------------------------\n"
     ]
    }
   ],
   "source": [
    "from torchsummary import summary\n",
    "net = MyNetBig(10)\n",
    "summary(net.cuda(), (3, 32, 32))"
   ]
  },
  {
   "cell_type": "markdown",
   "metadata": {
    "hidden": true,
    "id": "RTUjQgnun-yE"
   },
   "source": [
    "## Entrenamiento\n",
    "\n",
    "Se crea la función *train*, la cual recibe una red neuronal, el número de épocas, y los conjuntos de entrenamiento y validación. Esta función se encarga de entrenar la red entregada a partir de los datos de entrenamiento, y además de registrar el historial de métricas (accuracy y función de costo) al final de cada época para el conjunto de validación, las cuales serán retornadas junto al tiempo total de entrenamiento. "
   ]
  },
  {
   "cell_type": "code",
   "execution_count": null,
   "metadata": {
    "hidden": true,
    "id": "9M5vXU7Ltinf"
   },
   "outputs": [],
   "source": [
    "import sys\n",
    "import time\n",
    "import numpy as np\n",
    "def train(net, n_epochs, train_loader, val_loader):\n",
    "  total_train = len(train_loader)*train_loader.batch_size\n",
    "  total_val = len(val_loader)*val_loader.batch_size\n",
    "  val_acc = []\n",
    "  val_loss = []\n",
    "  t0 = time.time()\n",
    "\n",
    "  criterion = nn.CrossEntropyLoss()\n",
    "  optimizer = torch.optim.Adam(net.parameters(), lr=1e-3)\n",
    "  for epoch in range(n_epochs):\n",
    "    net.train()\n",
    "    running_loss, running_acc = 0.0, 0.0\n",
    "    for i, data in enumerate(train_loader, 0): # Obtener batch\n",
    "      labels = data[0].cuda()\n",
    "      inputs = data[1].float().cuda()\n",
    "      optimizer.zero_grad()\n",
    "      outputs = net(inputs)\n",
    "      loss = criterion(outputs, labels)\n",
    "      loss.backward()\n",
    "      optimizer.step()\n",
    "      # Calcular accuracy sobre el conjunto de validación y almacenarlo\n",
    "      # para hacer un plot después\n",
    "\n",
    "\n",
    "      items = (i+1) * train_loader.batch_size\n",
    "      running_loss += loss.item()\n",
    "      max_prob, max_idx = torch.max(outputs.data, dim=1)\n",
    "      running_acc += torch.sum(max_idx == labels).item()\n",
    "      info = f'\\rEpoch:{epoch+1}({items}/{total_train}), '\n",
    "      info += f'Loss:{running_loss/items:02.5f}, '\n",
    "      info += f'Train Acc:{running_acc/items*100:02.1f}%'\n",
    "      sys.stdout.write(info)\n",
    "\n",
    "    net.eval()\n",
    "    running_acc = 0.0\n",
    "    valid_loss = 0.0\n",
    "    \n",
    "    for i, data in enumerate(val_loader, 0):\n",
    "      labels = data[0].cuda()\n",
    "      inputs = data[1].float().cuda()\n",
    "      with torch.no_grad():\n",
    "        Y_pred = net(inputs)\n",
    "      max_prob, max_idx = torch.max(Y_pred.data, dim=1)\n",
    "      running_acc += torch.sum(max_idx == labels).item()\n",
    "      loss = criterion(Y_pred, labels)\n",
    "      # record validation loss\n",
    "      valid_loss+= loss.item()\n",
    "\n",
    "    val_acc.append(running_acc/total_val*100)  \n",
    "    val_loss.append(valid_loss/total_val*100)  \n",
    "    info = f', Val Acc:{running_acc/total_val*100:02.2f}%.\\n'\n",
    "    sys.stdout.write(info)\n",
    "  t1 = time.time()\n",
    "  return val_acc, val_loss, t1-t0\n",
    "    "
   ]
  },
  {
   "cell_type": "markdown",
   "metadata": {
    "hidden": true
   },
   "source": [
    "Se instancia la red grande y se pasa a la gpu, luego se entrena durante 40 épocas:"
   ]
  },
  {
   "cell_type": "code",
   "execution_count": null,
   "metadata": {
    "colab": {
     "base_uri": "https://localhost:8080/"
    },
    "hidden": true,
    "id": "udU4Uia72kCx",
    "outputId": "1575c0cf-bbc3-4bb1-9641-b2ebc0014272"
   },
   "outputs": [
    {
     "name": "stdout",
     "output_type": "stream",
     "text": [
      "Epoch:1(10016/10016), Loss:0.06166, Train Acc:29.1%, Val Acc:37.94%.\n",
      "Epoch:2(10016/10016), Loss:0.05221, Train Acc:39.7%, Val Acc:41.49%.\n",
      "Epoch:3(10016/10016), Loss:0.04581, Train Acc:46.9%, Val Acc:51.19%.\n",
      "Epoch:4(10016/10016), Loss:0.04031, Train Acc:53.9%, Val Acc:54.95%.\n",
      "Epoch:5(10016/10016), Loss:0.03576, Train Acc:59.3%, Val Acc:58.41%.\n",
      "Epoch:6(10016/10016), Loss:0.03154, Train Acc:64.9%, Val Acc:61.00%.\n",
      "Epoch:7(10016/10016), Loss:0.02777, Train Acc:70.1%, Val Acc:63.74%.\n",
      "Epoch:8(10016/10016), Loss:0.02498, Train Acc:72.5%, Val Acc:65.52%.\n",
      "Epoch:9(10016/10016), Loss:0.02123, Train Acc:77.1%, Val Acc:69.07%.\n",
      "Epoch:10(10016/10016), Loss:0.01792, Train Acc:80.6%, Val Acc:69.80%.\n",
      "Epoch:11(10016/10016), Loss:0.01609, Train Acc:82.4%, Val Acc:69.49%.\n",
      "Epoch:12(10016/10016), Loss:0.01290, Train Acc:86.4%, Val Acc:71.16%.\n",
      "Epoch:13(10016/10016), Loss:0.01046, Train Acc:88.7%, Val Acc:70.89%.\n",
      "Epoch:14(10016/10016), Loss:0.00830, Train Acc:91.2%, Val Acc:71.94%.\n",
      "Epoch:15(10016/10016), Loss:0.00798, Train Acc:91.3%, Val Acc:66.32%.\n",
      "Epoch:16(10016/10016), Loss:0.00712, Train Acc:92.7%, Val Acc:71.46%.\n",
      "Epoch:17(10016/10016), Loss:0.00481, Train Acc:94.9%, Val Acc:72.46%.\n",
      "Epoch:18(10016/10016), Loss:0.00493, Train Acc:94.7%, Val Acc:71.67%.\n",
      "Epoch:19(10016/10016), Loss:0.00400, Train Acc:95.7%, Val Acc:72.50%.\n",
      "Epoch:20(10016/10016), Loss:0.00351, Train Acc:96.0%, Val Acc:72.10%.\n",
      "Epoch:21(10016/10016), Loss:0.00400, Train Acc:95.7%, Val Acc:72.14%.\n",
      "Epoch:22(10016/10016), Loss:0.00316, Train Acc:96.6%, Val Acc:73.48%.\n",
      "Epoch:23(10016/10016), Loss:0.00315, Train Acc:96.6%, Val Acc:72.40%.\n",
      "Epoch:24(10016/10016), Loss:0.00256, Train Acc:97.5%, Val Acc:71.51%.\n",
      "Epoch:25(10016/10016), Loss:0.00331, Train Acc:96.6%, Val Acc:72.55%.\n",
      "Epoch:26(10016/10016), Loss:0.00275, Train Acc:97.0%, Val Acc:69.56%.\n",
      "Epoch:27(10016/10016), Loss:0.00340, Train Acc:96.4%, Val Acc:72.97%.\n",
      "Epoch:28(10016/10016), Loss:0.00185, Train Acc:97.9%, Val Acc:73.02%.\n",
      "Epoch:29(10016/10016), Loss:0.00140, Train Acc:98.6%, Val Acc:72.31%.\n",
      "Epoch:30(10016/10016), Loss:0.00215, Train Acc:97.4%, Val Acc:71.67%.\n",
      "Epoch:31(10016/10016), Loss:0.00212, Train Acc:97.7%, Val Acc:72.62%.\n",
      "Epoch:32(10016/10016), Loss:0.00204, Train Acc:97.8%, Val Acc:73.48%.\n",
      "Epoch:33(10016/10016), Loss:0.00156, Train Acc:98.1%, Val Acc:73.04%.\n",
      "Epoch:34(10016/10016), Loss:0.00127, Train Acc:98.5%, Val Acc:72.98%.\n",
      "Epoch:35(10016/10016), Loss:0.00132, Train Acc:98.6%, Val Acc:73.17%.\n",
      "Epoch:36(10016/10016), Loss:0.00132, Train Acc:98.5%, Val Acc:72.04%.\n",
      "Epoch:37(10016/10016), Loss:0.00208, Train Acc:97.8%, Val Acc:72.35%.\n",
      "Epoch:38(10016/10016), Loss:0.00202, Train Acc:97.9%, Val Acc:73.14%.\n",
      "Epoch:39(10016/10016), Loss:0.00097, Train Acc:98.9%, Val Acc:73.19%.\n",
      "Epoch:40(10016/10016), Loss:0.00192, Train Acc:98.0%, Val Acc:71.13%.\n"
     ]
    }
   ],
   "source": [
    "big_net = MyNetBig(10)\n",
    "big_net.cuda()\n",
    "n_epochs = 40\n",
    "big_net_val_acc, big_net_val_loss, big_net_tiempo = train(big_net, n_epochs, train_loader, val_loader)"
   ]
  },
  {
   "cell_type": "markdown",
   "metadata": {
    "hidden": true
   },
   "source": [
    "Como se puede ver, la red alcanzó un máximo de 73.48% de accuracy en el conjunto de validación en la época 22, a partir de ese momento la red sólo mejoró en el conjunto de entrenamiento, alcanzando un 98.9%, lo que claramente nos indica que la red está sobre ajustada."
   ]
  },
  {
   "cell_type": "markdown",
   "metadata": {
    "hidden": true
   },
   "source": [
    "## Evaluación en conjunto de test y gráficos del historial de entrenamiento"
   ]
  },
  {
   "cell_type": "code",
   "execution_count": null,
   "metadata": {
    "hidden": true,
    "id": "U5xyRmiaJCrk"
   },
   "outputs": [],
   "source": [
    "import seaborn as sns\n",
    "sns.set(rc={'figure.figsize':(20,6)})"
   ]
  },
  {
   "cell_type": "markdown",
   "metadata": {
    "hidden": true
   },
   "source": [
    "A continuación, podemos observar el accuracy y loss durante el entrenamiento, para el conjunto de validación.\n",
    "\n",
    "Como podemos ver, el accuracy converge aproximadamente en la época 22, observando un comportamiento extraño en la función de costos, ya que alcanza su mínimo en la época 8 y luego crece incluso superando su valor en la primera época, a pesar de que el accuracy no varíe demasiado."
   ]
  },
  {
   "cell_type": "code",
   "execution_count": null,
   "metadata": {
    "colab": {
     "base_uri": "https://localhost:8080/",
     "height": 428
    },
    "hidden": true,
    "id": "HzgCvWNMIsLz",
    "outputId": "05d11ef1-faa5-4129-e0ea-4d2188ff980f"
   },
   "outputs": [
    {
     "data": {
      "text/plain": [
       "Text(0, 0.5, 'Loss')"
      ]
     },
     "execution_count": 69,
     "metadata": {
      "tags": []
     },
     "output_type": "execute_result"
    },
    {
     "data": {
      "image/png": "[encoded data removed]",
      "text/plain": [
       "<Figure size 1440x432 with 2 Axes>"
      ]
     },
     "metadata": {
      "tags": []
     },
     "output_type": "display_data"
    }
   ],
   "source": [
    "fig, axs = plt.subplots(1,2)\n",
    "axs[0].plot(big_net_val_acc)\n",
    "axs[0].set_title('Accuracy en validación')\n",
    "axs[0].set_xlabel('Época')\n",
    "axs[0].set_ylabel('Accuracy')\n",
    "axs[1].plot(big_net_val_loss)\n",
    "axs[1].set_title('Loss en validación')\n",
    "axs[1].set_xlabel('Época')\n",
    "axs[1].set_ylabel('Loss')"
   ]
  },
  {
   "cell_type": "markdown",
   "metadata": {
    "hidden": true
   },
   "source": [
    "En cuanto al tiempo de entrenamiento, como se muestra a continuación, éste fue de 5 minutos y 10 segundos aproximadamente, para las 40 épocas."
   ]
  },
  {
   "cell_type": "code",
   "execution_count": null,
   "metadata": {
    "colab": {
     "base_uri": "https://localhost:8080/"
    },
    "hidden": true,
    "id": "3wuUUkeON0tT",
    "outputId": "3849714e-83d9-49b2-a3d8-e69cf75957f9"
   },
   "outputs": [
    {
     "name": "stdout",
     "output_type": "stream",
     "text": [
      "Tiempo de entrenamiento (40 épocas):  5.180126035213471  minutos\n"
     ]
    }
   ],
   "source": [
    "print('Tiempo de entrenamiento (40 épocas): ', big_net_tiempo/60, ' minutos')"
   ]
  },
  {
   "cell_type": "markdown",
   "metadata": {
    "hidden": true
   },
   "source": [
    "Por último, evaluamos en el conjunto de prueba. Para esto, se crea la función *evaluar*, la cual recibe una red y un dataloader, y entrega el accuracy obtenido sobre ese conjunto."
   ]
  },
  {
   "cell_type": "code",
   "execution_count": null,
   "metadata": {
    "hidden": true,
    "id": "BY_Dc7a6LAMO"
   },
   "outputs": [],
   "source": [
    "def evaluar(net, data_loader):\n",
    "  net.eval()\n",
    "  running_acc = 0.0\n",
    "  valid_loss = 0.0\n",
    "  total_test = len(data_loader)*data_loader.batch_size\n",
    "  for i, data in enumerate(test_loader, 0):\n",
    "    labels = data[0].cuda()\n",
    "    inputs = data[1].float().cuda()\n",
    "    with torch.no_grad():\n",
    "      Y_pred = net(inputs)\n",
    "    max_prob, max_idx = torch.max(Y_pred.data, dim=1)\n",
    "    running_acc += torch.sum(max_idx == labels).item()\n",
    "    loss = criterion(Y_pred, labels)\n",
    "    # record validation loss\n",
    "    valid_loss+= loss.item()\n",
    "\n",
    "  #val_acc.append(running_acc/total_val*100)  \n",
    "  info = f'Val Acc:{running_acc/total_test*100:02.2f}%.\\n'\n",
    "  sys.stdout.write(info)\n",
    "  return running_acc/total_test*100"
   ]
  },
  {
   "cell_type": "markdown",
   "metadata": {
    "hidden": true
   },
   "source": [
    "En éste caso, el accuracy es de 71.78%, lo cual es similar a lo que se había obtenido en la última época sobre el conjunto de validación."
   ]
  },
  {
   "cell_type": "code",
   "execution_count": null,
   "metadata": {
    "colab": {
     "base_uri": "https://localhost:8080/"
    },
    "hidden": true,
    "id": "euqyfeqfLqek",
    "outputId": "7f72e382-42a8-4bbb-de38-c3b2e89c60f0"
   },
   "outputs": [
    {
     "name": "stdout",
     "output_type": "stream",
     "text": [
      "Val Acc:71.78%.\n"
     ]
    }
   ],
   "source": [
    "big_net_acc_test = evaluar(big_net, test_loader)"
   ]
  },
  {
   "cell_type": "markdown",
   "metadata": {
    "heading_collapsed": true,
    "id": "3tG3KG-lnuBl"
   },
   "source": [
    "# Red pequeña"
   ]
  },
  {
   "cell_type": "markdown",
   "metadata": {
    "hidden": true
   },
   "source": [
    "A continuación se muestra la creación de la red pequeña, la cual cumple con la arquitectura requerida:"
   ]
  },
  {
   "cell_type": "code",
   "execution_count": null,
   "metadata": {
    "hidden": true,
    "id": "IQ1uJCeNbuZ8"
   },
   "outputs": [],
   "source": [
    "class MyNetSmall(nn.Module):\n",
    "\n",
    "  def __init__(self, nclasses):\n",
    "    super(MyNetSmall, self).__init__()\n",
    "\n",
    "    self.nclasses = nclasses\n",
    "    self.conv1 = nn.Conv2d(3, 64, 3, padding = 1)\n",
    "    self.conv2 = nn.Conv2d(64, 128, 3, padding = 1)\n",
    "    self.conv3 = nn.Conv2d(128, 256, 3, padding = 1)\n",
    "    self.conv4 = nn.Conv2d(256, 512, 3, padding = 1)\n",
    "    self.bn1 = torch.nn.BatchNorm2d(64)\n",
    "    self.bn2 = torch.nn.BatchNorm2d(128)\n",
    "    self.bn3 = torch.nn.BatchNorm2d(256)\n",
    "    self.bn4 = torch.nn.BatchNorm2d(512)\n",
    "    self.maxpool = torch.nn.MaxPool2d(2,2)\n",
    "    self.relu = nn.ReLU()\n",
    "    self.fc1 = nn.Linear(2048,128)\n",
    "    self.bn5 = torch.nn.BatchNorm1d(128,)\n",
    "    self.fc2 = nn.Linear(128, self.nclasses)\n",
    "    self.softmax = nn.Softmax()\n",
    "    self.flatten = nn.Flatten()\n",
    "     \n",
    "  def forward(self, x):\n",
    "    x = self.bn1(self.relu(self.conv1(x)))\n",
    "    x = self.maxpool(x)\n",
    "    x = self.bn2(self.relu(self.conv2(x)))\n",
    "    x = self.maxpool(x)\n",
    "    x = self.bn3(self.relu(self.conv3(x)))\n",
    "    x = self.maxpool(x)\n",
    "    x = self.bn4(self.relu(self.conv4(x)))\n",
    "    x = self.maxpool(x)\n",
    "    x = self.bn5(self.relu(self.fc1(self.flatten(x))))\n",
    "    x = self.fc2(x)\n",
    "    return x"
   ]
  },
  {
   "cell_type": "code",
   "execution_count": null,
   "metadata": {
    "colab": {
     "base_uri": "https://localhost:8080/"
    },
    "hidden": true,
    "id": "-_BzBUImNCAS",
    "outputId": "e7b5c065-60fa-47eb-e84f-97ebed82b400"
   },
   "outputs": [
    {
     "name": "stdout",
     "output_type": "stream",
     "text": [
      "----------------------------------------------------------------\n",
      "        Layer (type)               Output Shape         Param #\n",
      "================================================================\n",
      "            Conv2d-1           [-1, 64, 32, 32]           1,792\n",
      "              ReLU-2           [-1, 64, 32, 32]               0\n",
      "       BatchNorm2d-3           [-1, 64, 32, 32]             128\n",
      "         MaxPool2d-4           [-1, 64, 16, 16]               0\n",
      "            Conv2d-5          [-1, 128, 16, 16]          73,856\n",
      "              ReLU-6          [-1, 128, 16, 16]               0\n",
      "       BatchNorm2d-7          [-1, 128, 16, 16]             256\n",
      "         MaxPool2d-8            [-1, 128, 8, 8]               0\n",
      "            Conv2d-9            [-1, 256, 8, 8]         295,168\n",
      "             ReLU-10            [-1, 256, 8, 8]               0\n",
      "      BatchNorm2d-11            [-1, 256, 8, 8]             512\n",
      "        MaxPool2d-12            [-1, 256, 4, 4]               0\n",
      "           Conv2d-13            [-1, 512, 4, 4]       1,180,160\n",
      "             ReLU-14            [-1, 512, 4, 4]               0\n",
      "      BatchNorm2d-15            [-1, 512, 4, 4]           1,024\n",
      "        MaxPool2d-16            [-1, 512, 2, 2]               0\n",
      "          Flatten-17                 [-1, 2048]               0\n",
      "           Linear-18                  [-1, 128]         262,272\n",
      "             ReLU-19                  [-1, 128]               0\n",
      "      BatchNorm1d-20                  [-1, 128]             256\n",
      "           Linear-21                   [-1, 10]           1,290\n",
      "================================================================\n",
      "Total params: 1,816,714\n",
      "Trainable params: 1,816,714\n",
      "Non-trainable params: 0\n",
      "----------------------------------------------------------------\n",
      "Input size (MB): 0.01\n",
      "Forward/backward pass size (MB): 3.07\n",
      "Params size (MB): 6.93\n",
      "Estimated Total Size (MB): 10.01\n",
      "----------------------------------------------------------------\n"
     ]
    }
   ],
   "source": [
    "from torchsummary import summary\n",
    "\n",
    "small_net = MyNetSmall(10)\n",
    "small_net.cuda()\n",
    "summary(small_net, (3, 32, 32))"
   ]
  },
  {
   "cell_type": "markdown",
   "metadata": {
    "hidden": true
   },
   "source": [
    "Entrenamos la red utilizando la función *train* previamente creada:"
   ]
  },
  {
   "cell_type": "code",
   "execution_count": null,
   "metadata": {
    "colab": {
     "base_uri": "https://localhost:8080/"
    },
    "hidden": true,
    "id": "qzesIFhDNNuY",
    "outputId": "5adef6a3-e0c4-49b6-ada3-fd315c3b416c"
   },
   "outputs": [
    {
     "name": "stdout",
     "output_type": "stream",
     "text": [
      "Epoch:1(10016/10016), Loss:0.04857, Train Acc:42.6%, Val Acc:49.53%.\n",
      "Epoch:2(10016/10016), Loss:0.03504, Train Acc:59.9%, Val Acc:52.50%.\n",
      "Epoch:3(10016/10016), Loss:0.02880, Train Acc:67.3%, Val Acc:65.70%.\n",
      "Epoch:4(10016/10016), Loss:0.02057, Train Acc:76.9%, Val Acc:66.95%.\n",
      "Epoch:5(10016/10016), Loss:0.01379, Train Acc:84.6%, Val Acc:65.85%.\n",
      "Epoch:6(10016/10016), Loss:0.00920, Train Acc:89.9%, Val Acc:67.24%.\n",
      "Epoch:7(10016/10016), Loss:0.00592, Train Acc:93.5%, Val Acc:66.53%.\n",
      "Epoch:8(10016/10016), Loss:0.00406, Train Acc:95.7%, Val Acc:67.08%.\n",
      "Epoch:9(10016/10016), Loss:0.00320, Train Acc:96.7%, Val Acc:67.23%.\n",
      "Epoch:10(10016/10016), Loss:0.00264, Train Acc:97.1%, Val Acc:67.64%.\n",
      "Epoch:11(10016/10016), Loss:0.00314, Train Acc:96.3%, Val Acc:67.26%.\n",
      "Epoch:12(10016/10016), Loss:0.00266, Train Acc:97.1%, Val Acc:68.77%.\n",
      "Epoch:13(10016/10016), Loss:0.00151, Train Acc:98.3%, Val Acc:67.94%.\n",
      "Epoch:14(10016/10016), Loss:0.00156, Train Acc:98.1%, Val Acc:67.54%.\n",
      "Epoch:15(10016/10016), Loss:0.00326, Train Acc:96.4%, Val Acc:67.22%.\n",
      "Epoch:16(10016/10016), Loss:0.00284, Train Acc:97.0%, Val Acc:68.32%.\n",
      "Epoch:17(10016/10016), Loss:0.00156, Train Acc:98.2%, Val Acc:68.41%.\n",
      "Epoch:18(10016/10016), Loss:0.00115, Train Acc:98.6%, Val Acc:67.43%.\n",
      "Epoch:19(10016/10016), Loss:0.00081, Train Acc:99.1%, Val Acc:68.51%.\n",
      "Epoch:20(10016/10016), Loss:0.00211, Train Acc:97.6%, Val Acc:67.39%.\n",
      "Epoch:21(10016/10016), Loss:0.00182, Train Acc:97.9%, Val Acc:67.33%.\n",
      "Epoch:22(10016/10016), Loss:0.00162, Train Acc:98.2%, Val Acc:69.36%.\n",
      "Epoch:23(10016/10016), Loss:0.00156, Train Acc:98.0%, Val Acc:69.25%.\n",
      "Epoch:24(10016/10016), Loss:0.00099, Train Acc:98.8%, Val Acc:69.21%.\n",
      "Epoch:25(10016/10016), Loss:0.00076, Train Acc:99.0%, Val Acc:68.66%.\n",
      "Epoch:26(10016/10016), Loss:0.00086, Train Acc:98.9%, Val Acc:66.58%.\n",
      "Epoch:27(10016/10016), Loss:0.00134, Train Acc:98.5%, Val Acc:67.72%.\n",
      "Epoch:28(10016/10016), Loss:0.00291, Train Acc:96.9%, Val Acc:67.49%.\n",
      "Epoch:29(10016/10016), Loss:0.00147, Train Acc:98.2%, Val Acc:68.57%.\n",
      "Epoch:30(10016/10016), Loss:0.00068, Train Acc:99.1%, Val Acc:68.93%.\n",
      "Epoch:31(10016/10016), Loss:0.00051, Train Acc:99.3%, Val Acc:69.45%.\n",
      "Epoch:32(10016/10016), Loss:0.00038, Train Acc:99.4%, Val Acc:68.94%.\n",
      "Epoch:33(10016/10016), Loss:0.00079, Train Acc:98.9%, Val Acc:68.17%.\n",
      "Epoch:34(10016/10016), Loss:0.00100, Train Acc:98.9%, Val Acc:69.10%.\n",
      "Epoch:35(10016/10016), Loss:0.00102, Train Acc:98.8%, Val Acc:67.64%.\n",
      "Epoch:36(10016/10016), Loss:0.00128, Train Acc:98.5%, Val Acc:67.03%.\n",
      "Epoch:37(10016/10016), Loss:0.00075, Train Acc:99.0%, Val Acc:67.80%.\n",
      "Epoch:38(10016/10016), Loss:0.00120, Train Acc:98.6%, Val Acc:68.48%.\n",
      "Epoch:39(10016/10016), Loss:0.00081, Train Acc:99.0%, Val Acc:67.90%.\n",
      "Epoch:40(10016/10016), Loss:0.00044, Train Acc:99.3%, Val Acc:68.09%.\n"
     ]
    }
   ],
   "source": [
    "n_epochs = 40\n",
    "small_net_val_acc, small_net_val_loss, small_net_tiempo = train(small_net, n_epochs, train_loader, val_loader)"
   ]
  },
  {
   "cell_type": "markdown",
   "metadata": {
    "hidden": true
   },
   "source": [
    "Graficamos accuracy y loss durante el entrenamiento, para el conjunto de validación:"
   ]
  },
  {
   "cell_type": "code",
   "execution_count": null,
   "metadata": {
    "colab": {
     "base_uri": "https://localhost:8080/",
     "height": 428
    },
    "hidden": true,
    "id": "FpMNvcXmuRvk",
    "outputId": "0906600e-7110-44ca-8110-f5707fd6a046"
   },
   "outputs": [
    {
     "data": {
      "text/plain": [
       "Text(0, 0.5, 'Loss')"
      ]
     },
     "execution_count": 83,
     "metadata": {
      "tags": []
     },
     "output_type": "execute_result"
    },
    {
     "data": {
      "image/png": "[encoded data removed]",
      "text/plain": [
       "<Figure size 1440x432 with 2 Axes>"
      ]
     },
     "metadata": {
      "tags": []
     },
     "output_type": "display_data"
    }
   ],
   "source": [
    "fig, axs = plt.subplots(1,2)\n",
    "axs[0].plot(small_net_val_acc)\n",
    "axs[0].set_title('Accuracy en validación')\n",
    "axs[0].set_xlabel('Época')\n",
    "axs[0].set_ylabel('Accuracy')\n",
    "axs[1].plot(small_net_val_loss)\n",
    "axs[1].set_title('Loss en validación')\n",
    "axs[1].set_xlabel('Época')\n",
    "axs[1].set_ylabel('Loss')"
   ]
  },
  {
   "cell_type": "markdown",
   "metadata": {
    "hidden": true
   },
   "source": [
    "Por otro lado, el tiempo de entrenamiento para 40 épocas, fue de 2 minutos y 50 segundos aproximadamente, es decir, un 182% más rápida que la red big, la cual tenía el triple de parámetros entrenables."
   ]
  },
  {
   "cell_type": "code",
   "execution_count": null,
   "metadata": {
    "colab": {
     "base_uri": "https://localhost:8080/"
    },
    "hidden": true,
    "id": "k6EiOfgtPH9h",
    "outputId": "0a80de9f-9352-4c45-92d4-12dc17ec069d"
   },
   "outputs": [],
   "source": [
    "print('Tiempo de entrenamiento (40 épocas): ', small_net_tiempo/60, ' minutos')"
   ]
  },
  {
   "cell_type": "markdown",
   "metadata": {
    "hidden": true
   },
   "source": [
    "Por último, evaluamos la red sobre el conjunto de prueba, obteniendo un 69.20%."
   ]
  },
  {
   "cell_type": "code",
   "execution_count": null,
   "metadata": {
    "colab": {
     "base_uri": "https://localhost:8080/"
    },
    "hidden": true,
    "id": "rhX-miaKPH9Q",
    "outputId": "2973a3f2-ac32-499c-deaf-80f83b623ed4"
   },
   "outputs": [],
   "source": [
    "small_net_acc_test = evaluar(small_net, test_loader)"
   ]
  },
  {
   "cell_type": "markdown",
   "metadata": {
    "heading_collapsed": true
   },
   "source": [
    "# Conclusiones"
   ]
  },
  {
   "cell_type": "code",
   "execution_count": null,
   "metadata": {
    "hidden": true
   },
   "outputs": [],
   "source": []
  }
 ],
 "metadata": {
  "accelerator": "GPU",
  "colab": {
   "collapsed_sections": [],
   "name": "Tarea 5 Imágenes.ipynb",
   "provenance": []
  },
  "kernelspec": {
   "display_name": "Python 3",
   "language": "python",
   "name": "python3"
  },
  "language_info": {
   "codemirror_mode": {
    "name": "ipython",
    "version": 3
   },
   "file_extension": ".py",
   "mimetype": "text/x-python",
   "name": "python",
   "nbconvert_exporter": "python",
   "pygments_lexer": "ipython3",
   "version": "3.7.8"
  },
  "toc": {
   "base_numbering": 1,
   "nav_menu": {},
   "number_sections": true,
   "sideBar": true,
   "skip_h1_title": false,
   "title_cell": "Table of Contents",
   "title_sidebar": "Contents",
   "toc_cell": false,
   "toc_position": {},
   "toc_section_display": true,
   "toc_window_display": false
  }
 },
 "nbformat": 4,
 "nbformat_minor": 1
}
