{
 "cells": [
  {
   "cell_type": "markdown",
   "metadata": {},
   "source": [
    "# Tarea 4: Detección de personas usando Características tipo HOG\n",
    "\n",
    "**Ignacio Zurita Tapia**"
   ]
  },
  {
   "cell_type": "markdown",
   "metadata": {},
   "source": [
    "# Introducción"
   ]
  },
  {
   "cell_type": "markdown",
   "metadata": {},
   "source": [
    "El presente informe tiene como objetivo el estudio e implementación del cálculo de características HOG para la tarea de detección de personas en visión computacional. Así, en primer lugar se implementará cada paso para el cálculo de éstas características y luego se entrenarán 2 clasificadores diferentes y se compararán sus resultados.\n",
    "\n",
    "A continuación, se enumeran las secciones principales del reporte:\n",
    "\n",
    "- Desarrollo:\n",
    "    - Preprocesamiento de imágenes: Se aplican transformaciones para reescalar y convertir a escala de grises todos los ejemplos.\n",
    "    - Calculo de gradientes: Se implementa una función para el cálculo de los gradientes de una imagen en su forma polar. \n",
    "    - Calculo de características HOG: Se implementa función que permite calcular las características HOG a partir de sus gradientes.\n",
    "    - Block normalization: Se implementa la etapa de Block normalization de las características HOG.\n",
    "    - Procesamiento del dataset para la obtención de las features: Se calculan las características HOG de los conjuntos de entrenamiento y de prueba.\n",
    "    - Entrenamineto SVM: Se entrena un clasificador SVM (Support vector machine) y se evalúa su rendimiento en el conjunto de prueba.\n",
    "    - Entrenamiento Random Forest: Se entrena un clasificador utilizando Random Forest y se evalúa su rendimiento en el conjunto de pureba.\n",
    "    \n",
    "- Conclusiones\n",
    "\n"
   ]
  },
  {
   "cell_type": "markdown",
   "metadata": {},
   "source": [
    "# Desarrollo"
   ]
  },
  {
   "cell_type": "code",
   "execution_count": 1,
   "metadata": {},
   "outputs": [],
   "source": [
    "import cv2\n",
    "from sklearn.model_selection import train_test_split\n",
    "import matplotlib.pyplot as plt\n",
    "import os\n",
    "import numpy as np"
   ]
  },
  {
   "cell_type": "markdown",
   "metadata": {},
   "source": [
    "## Función para convertir a escala de grises y redimensionar imágenes\n",
    "\n",
    "Se crea la función *resize_and_grayscale*, la cual recibe una imagen, la transforma a escala de grises y la redimensiona a una de 128x64. Para esto, se hace uso de las funciones de opencv *cvtColor* y *resize*."
   ]
  },
  {
   "cell_type": "code",
   "execution_count": 2,
   "metadata": {},
   "outputs": [],
   "source": [
    "def resize_and_grayscale(img):\n",
    "    gray = cv2.cvtColor(img, cv2.COLOR_BGR2GRAY)\n",
    "    resize = cv2.resize(gray, (128,64))\n",
    "    return np.array(resize, dtype = np.float32)"
   ]
  },
  {
   "cell_type": "markdown",
   "metadata": {},
   "source": [
    "## Preparación de conjuntos de entrenamiento y prueba\n",
    "\n",
    "Para generar los conjuntos de entrenamiento y prueba, en primer lugar se lee la base de datos a partir de los directorios correspondientes a los distintos tipos de imágenes (autos, sillas y personas). Así, se guardan los inputs pertenecientes a cada tipo de objeto y se genera su respectiva clase, que en este caso corresponden a *pedestrian* y *non_pedestrian*.\n",
    "\n",
    "Luego, para hacer las particiones de train y test, se aplica *train_test_split* de *sklearn*, sobre cada grupo de imágenes pertenecientes a un mismo objeto y luego se concatenan los resultados. Esto, con la finalidad de que la distribución de ejemplos durante el entrenamiento sea similar a la distribución de prueba.\n",
    "\n",
    "El procedimiento anterior está sintetizado en la función *get_train_test_data*, el cual recibe un random state para poder replicar los experimentos."
   ]
  },
  {
   "cell_type": "code",
   "execution_count": 3,
   "metadata": {},
   "outputs": [],
   "source": [
    "def get_train_test_data(random_state = 999):\n",
    "    \n",
    "    base_path = os.getcwd() \n",
    "    \n",
    "    car_images = os.listdir(base_path + '/car_side/') \n",
    "    chair_images = os.listdir(base_path + '/chair/') \n",
    "    pedestrian_images = os.listdir(base_path + '/pedestrian/') \n",
    "\n",
    "    \n",
    "    cars = []\n",
    "    cars_id = []  \n",
    "    for imagen in car_images:\n",
    "        clase = 'non_pedestrian'\n",
    "        img = cv2.imread(base_path + '/car_side/' + imagen)\n",
    "        img = resize_and_grayscale(img)\n",
    "        cars.append(img)\n",
    "        cars_id.append(clase)\n",
    "        \n",
    "    chair = []\n",
    "    chair_id = []\n",
    "    for imagen in chair_images:\n",
    "        clase = 'non_pedestrian'\n",
    "        img = cv2.imread(base_path + '/chair/' + imagen)\n",
    "        img = resize_and_grayscale(img)\n",
    "        chair.append(img)\n",
    "        chair_id.append(clase)\n",
    "    \n",
    "    pedestrian = []\n",
    "    pedestrian_id = []\n",
    "    for imagen in pedestrian_images:\n",
    "        clase = 'pedestrian'\n",
    "        img = cv2.imread(base_path + '/pedestrian/' + imagen)\n",
    "        img = resize_and_grayscale(img)\n",
    "        pedestrian.append(img)\n",
    "        pedestrian_id.append(clase)\n",
    "        \n",
    "    X_train1,  X_test1, y_train1, y_test1 = train_test_split(np.array(cars), \n",
    "                                                             np.array(cars_id),\n",
    "                                                             test_size = 0.3,\n",
    "                                                             random_state = random_state)\n",
    "    \n",
    "    X_train2,  X_test2, y_train2, y_test2 = train_test_split(np.array(chair), \n",
    "                                                             np.array(chair_id), \n",
    "                                                             test_size = 0.3,\n",
    "                                                             random_state = random_state)\n",
    "    \n",
    "    X_train3,  X_test3, y_train3, y_test3 = train_test_split(np.array(pedestrian), \n",
    "                                                             np.array(pedestrian_id),\n",
    "                                                             test_size = 0.3,\n",
    "                                                             random_state = random_state)\n",
    "\n",
    "    X_train = np.vstack((np.vstack((X_train1, X_train2)), X_train3))\n",
    "    X_test = np.vstack((np.vstack((X_test1, X_test2)), X_test3))\n",
    "    y_train = np.hstack((np.hstack((y_train1, y_train2)),y_train3))\n",
    "    y_test = np.hstack((np.hstack((y_test1, y_test2)), y_test3))\n",
    "    \n",
    "    return X_train, X_test, y_train, y_test"
   ]
  },
  {
   "cell_type": "code",
   "execution_count": 4,
   "metadata": {},
   "outputs": [],
   "source": [
    "X_train, X_test, y_train, y_test = get_train_test_data()"
   ]
  },
  {
   "cell_type": "markdown",
   "metadata": {},
   "source": [
    "## Gradientes\n",
    "\n",
    "Para el cálculo de los gradientes de las imágenes, se utiliza la función *Sobel* de opencv, la cual utiliza el operador Sobel. Ésta función retorna el gradiente en forma rectangular (dos componentes, una para el eje x y otra para el eje y), por lo que es nesario aplicar la transformación a cordenadas polares para poder usarlos en el cálculo de las características HOG.\n",
    "La transformación a coordenadas polares viene dada por:\n",
    "\n",
    "$$ magnitud = \\sqrt{g_x^2 + g_y^2}$$\n",
    "\n",
    "$$ angulo  = \\arctan{\\frac{gy}{gx}} $$\n",
    "\n",
    "donde $g_x$ y $g_y$ son las componentes en x e y de los gradientes. \n",
    "\n",
    "Para efectos de esta tarea, además se mapearon los valores de ángulo de 0 a 180. "
   ]
  },
  {
   "cell_type": "code",
   "execution_count": 9,
   "metadata": {},
   "outputs": [],
   "source": [
    "def get_polar_grad(img):\n",
    "    gx = cv2.Sobel(img, cv2.CV_32F, 1, 0, ksize=1)\n",
    "    gy = cv2.Sobel(img, cv2.CV_32F, 0, 1, ksize=1)\n",
    "    mag = np.sqrt(gx*gx + gy*gy)\n",
    "    angle= 360*np.arctan(np.abs(gy)/(gx+ 1e-8))/(2*np.pi) #Se calcula el ángulo y se transforma a radianes\n",
    "    \n",
    "    angle = 180*(angle < 0) + angle #se suma 180 a los angulos negativos\n",
    "    return mag, angle"
   ]
  },
  {
   "cell_type": "markdown",
   "metadata": {},
   "source": [
    "## Implementación de HOG\n",
    "\n",
    "Para el calculo de las características HOG, se recorre la imagen en celdas de 8x8, y además se recorre cada elemento de cada celda.\n",
    "\n",
    "A partir de cada elemento, se calculan los índices correspondientes a los 8 votos, a partir de las ecuaciones:\n",
    "\n",
    "$$ i0 = floor(\\frac{col-1}{8})$$\n",
    "$$ i1 = ceil(\\frac{col-1}{8})$$\n",
    "$$ j0 = floor(\\frac{row-1}{8})$$\n",
    "$$ j1 = ceil(\\frac{row-1}{8})$$\n",
    "$$ k0 = floor(\\frac{\\theta-10}{20})$$\n",
    "$$ k1 = ceil(\\frac{\\theta-10}{20})$$\n",
    "\n",
    "\n",
    "Para corregir los índices negativos en los bordes, estos se mapean a 0 y además, a los índices que se salen del rango aceptable, se les resta una unidad, a exepción del indice de ángulo el cual se mapea a 0 en caso de salirse del margen, considerando que equivale a ponderar el ángulo cero. \n",
    "\n",
    "Con esto, se calculan los pesos $w_{x0}, w_{x1}, w_{y0}, w_{y1}, w_{k0}, w_{k1}$, los cuales se calculan a partir de la distancia del índice del bin al índice de la imagen en el caso de las componentes espaciales, y en el caso de la componente angular, como la distancia entre el índice del bin al índice angular en formato decimal.\n",
    "\n",
    "\n",
    "$$w_{x0} = abs(1 - abs(j - j_0)/8)$$\n",
    "$$w_{x1} = 1 - w_{x0}$$\n",
    "$$w_{y0} = abs(1 - abs(i - i_0)/8)$$\n",
    "$$w_{y1} = 1 - w_{y0}$$\n",
    "$$w_{w0} = 1 - abs((\\theta-10)/20 - k_0)$$\n",
    "$$w_{w1} = 1 - w_{k0}$$\n",
    "\n",
    "Luego, el voto del pixel actual, a partir de su magnitud se calcula como:\n",
    "\n",
    "$$hist[i_n,j_n,k_n] = magnitud * w_{x_n}w_{y_n}w_{k_n}$$\n",
    "\n",
    "con $n \\in \\{0,1\\}$.\n"
   ]
  },
  {
   "cell_type": "code",
   "execution_count": 10,
   "metadata": {},
   "outputs": [],
   "source": [
    "def calculate_HOG_features(magnitudes, angles):\n",
    "    histogram = np.zeros((8,16,9))\n",
    "    for row in range(0, 64, 8):\n",
    "        for col in range(0, 128, 8):\n",
    "            for i in range(8):\n",
    "                for j in range(8):\n",
    "                    ang = angles[row+i, col+j]\n",
    "                    mag = magnitudes[row + i, col + j]\n",
    "                    j0 = int(np.max([np.floor((col + j - 1)/8), 0]))\n",
    "                    i0 = int(np.max([np.floor((row + i- 1)/8), 0]))\n",
    "                    j1 = int(np.max([np.ceil((col + j - 1)/8), 0]))\n",
    "                    i1 = int(np.max([np.ceil((row + i- 1)/8), 0]))\n",
    "                    k0 = int(np.max([np.floor((ang - 10)/20), 0]))\n",
    "                    k1 = int(np.max([np.ceil((ang - 10)/20), 0]))\n",
    "                    \n",
    "                    if k1 == 9:\n",
    "                        k1 = 0\n",
    "                    if j0 == 16:\n",
    "                        j0 = 15\n",
    "                    if j1 == 16 :\n",
    "                        j1 = 15\n",
    "                    if i0 == 8:\n",
    "                        i0= 7\n",
    "                    if i1 == 8:\n",
    "                        i1 = 7\n",
    "                        \n",
    "                    wx0 = np.abs(1 - np.abs(j - j0)/8)\n",
    "                    wx1 = 1 - wx0\n",
    "                    wy0 = np.abs(1 - np.abs(i - i0)/8)\n",
    "                    wy1 = 1 - wy0\n",
    "                    wk0 = 1 - np.abs((ang-10)/20 - k0)\n",
    "                    wk1 = 1 - wk0\n",
    "                   \n",
    "                    \n",
    "                    histogram[i0,j0,k0] += mag*wx0*wy0*wk0\n",
    "                    histogram[i0,j0,k1] += mag*wx0*wy0*wk1\n",
    "                    histogram[i0,j1,k0] += mag*wx0*wy1*wk0\n",
    "                    histogram[i0,j1,k1] += mag*wx0*wy1*wk1\n",
    "                    histogram[i1,j0,k0] += mag*wx1*wy0*wk0\n",
    "                    histogram[i1,j0,k1] += mag*wx1*wy0*wk1\n",
    "                    histogram[i1,j1,k0] += mag*wx1*wy1*wk0\n",
    "                    histogram[i1,j1,k0] += mag*wx1*wy1*wk1\n",
    "                \n",
    "    return histogram"
   ]
  },
  {
   "cell_type": "markdown",
   "metadata": {},
   "source": [
    "## Block normalization\n",
    "\n",
    "El block normalization consiste en recorrer el histograma obtenido de 8x16x9 en bloques de 2x2x9 con traslape. Así, para cada bloque, este se transforma a un vector de largo 36, el cual es normalizado para que sus valores oscilen entre 0 y 1. Posteriormente, se concatenan todos los vectores obtenidos formando un array de 3780 componentes, el cual corresponde al vector de características HOG a utilizar para la clasificación."
   ]
  },
  {
   "cell_type": "code",
   "execution_count": 11,
   "metadata": {},
   "outputs": [],
   "source": [
    "from sklearn.preprocessing import normalize\n",
    "def block_normalization(histogram):\n",
    "    features = []\n",
    "    for i in range(7):\n",
    "        for j in range(15):\n",
    "            block = histogram[i:i+2, j:j+2, :].reshape(1,-1)\n",
    "            block = normalize(block, axis=1,)\n",
    "            features.extend(block.reshape(-1))\n",
    "            \n",
    "    return features"
   ]
  },
  {
   "cell_type": "markdown",
   "metadata": {},
   "source": [
    "## Extracción de features en conjuntos de entrenamiento y prueba.\n",
    "\n",
    "A continuación, se utiliza la función *hog* para calcular las características HOG con Block Normalization sobre los conjuntos de imágenes de train y test."
   ]
  },
  {
   "cell_type": "code",
   "execution_count": 12,
   "metadata": {},
   "outputs": [],
   "source": [
    "def hog(data):\n",
    "    features = []\n",
    "    for img in data:\n",
    "        magnitudes, angles = get_polar_grad(img)\n",
    "        hist = calculate_HOG_features(magnitudes, angles)\n",
    "        feat = block_normalization(hist)\n",
    "        features.append(feat)\n",
    "    return np.array(features)"
   ]
  },
  {
   "cell_type": "code",
   "execution_count": 13,
   "metadata": {},
   "outputs": [],
   "source": [
    "train_features, test_features = hog(X_train), hog(X_test)"
   ]
  },
  {
   "cell_type": "markdown",
   "metadata": {},
   "source": [
    "## Entrenamiento SVM\n",
    "\n",
    "Se entrena un clasificador con SVM, para esto, se forma un Pipeline utilizando *StandarScaler* para normalizar los datos, y posteriormente el clasificador.\n",
    "En este caso, se aplica GridSearchCV al clasificador para encontrar sus hiper-parámetros óptimos. \n",
    "\n",
    "Los hiper-parámetros para la grilla de búsqueda son:\n",
    "\n",
    "| Atributo     | Hiper parámetros    |\n",
    "|--------------|---------------------|\n",
    "| Kernel       | [linear, poly, rbf] |\n",
    "| C            | [0.1, 1, 10]        |\n",
    "| degree       | [1, 2, 3]           |\n"
   ]
  },
  {
   "cell_type": "code",
   "execution_count": 41,
   "metadata": {},
   "outputs": [],
   "source": [
    "from sklearn.preprocessing import StandardScaler\n",
    "from sklearn.pipeline import make_pipeline\n",
    "from sklearn.svm import SVC\n",
    "from sklearn.model_selection import GridSearchCV\n",
    "\n",
    "parameters = {'kernel':('linear', 'poly','rbf'), \n",
    "              'C':[0.1,1, 10], \n",
    "              'degree':[1,2,3]}\n",
    "svc = SVC()\n",
    "grid_search = GridSearchCV(svc, parameters)\n",
    "scaler = StandardScaler()\n",
    "\n",
    "clf = make_pipeline(scaler, grid_search)"
   ]
  },
  {
   "cell_type": "code",
   "execution_count": 42,
   "metadata": {},
   "outputs": [
    {
     "data": {
      "text/plain": [
       "Pipeline(steps=[('standardscaler', StandardScaler()),\n",
       "                ('gridsearchcv',\n",
       "                 GridSearchCV(estimator=SVC(),\n",
       "                              param_grid={'C': [0.1, 1, 10],\n",
       "                                          'degree': [1, 2, 3],\n",
       "                                          'kernel': ('linear', 'poly',\n",
       "                                                     'rbf')}))])"
      ]
     },
     "execution_count": 42,
     "metadata": {},
     "output_type": "execute_result"
    }
   ],
   "source": [
    "clf.fit(train_features, y_train)"
   ]
  },
  {
   "cell_type": "code",
   "execution_count": 43,
   "metadata": {},
   "outputs": [
    {
     "name": "stdout",
     "output_type": "stream",
     "text": [
      "Accuracy en train  1.0\n",
      "Accuracy en test  0.9821428571428571\n"
     ]
    }
   ],
   "source": [
    "print('Accuracy en train ', clf.score(train_features, y_train))\n",
    "print('Accuracy en test ', clf.score(test_features, y_test))"
   ]
  },
  {
   "cell_type": "code",
   "execution_count": 44,
   "metadata": {},
   "outputs": [
    {
     "data": {
      "text/plain": [
       "SVC(C=0.1, degree=1, kernel='linear')"
      ]
     },
     "execution_count": 44,
     "metadata": {},
     "output_type": "execute_result"
    }
   ],
   "source": [
    "grid_search.best_estimator_"
   ]
  },
  {
   "cell_type": "markdown",
   "metadata": {},
   "source": [
    "Como podemos ver, los hiper-parámetros óptimos dentro de la grilla mencionada anteriormente son:\n",
    "\n",
    "$$C = 0.1, degree = 1, kernel= linear $$\n",
    "\n",
    "obteniendo accuracy del 100% sobre el conjunto de entrenamiento, y 98.21 % para el conjunto de prueba.\n",
    "\n",
    "A continuación, vemos la matriz de confusión obtenida para el conjunto de prueba."
   ]
  },
  {
   "cell_type": "code",
   "execution_count": 34,
   "metadata": {},
   "outputs": [
    {
     "data": {
      "text/plain": [
       "<AxesSubplot:>"
      ]
     },
     "execution_count": 34,
     "metadata": {},
     "output_type": "execute_result"
    },
    {
     "data": {
      "image/png": "[encoded data removed]",
      "text/plain": [
       "<Figure size 432x288 with 2 Axes>"
      ]
     },
     "metadata": {
      "needs_background": "light"
     },
     "output_type": "display_data"
    }
   ],
   "source": [
    "import seaborn as sns\n",
    "from sklearn.metrics import confusion_matrix\n",
    "\n",
    "y_pred_svm = clf.predict(test_features)\n",
    "m1 = confusion_matrix(y_test, y_pred_svm)\n",
    "sns.heatmap(m1, annot=True)"
   ]
  },
  {
   "cell_type": "markdown",
   "metadata": {},
   "source": [
    "Como podemos ver, el modelo se equivocó en un ejemplo de cada clase, los buscaremos para intentar entender el resultado."
   ]
  },
  {
   "cell_type": "code",
   "execution_count": 51,
   "metadata": {},
   "outputs": [],
   "source": [
    "a = list(y_test == y_pred_svm)\n",
    "erroneos = []\n",
    "erroneos.append(a.index(False))\n",
    "a.pop(erroneos[0])\n",
    "erroneos.append(a.index(False))\n"
   ]
  },
  {
   "cell_type": "markdown",
   "metadata": {},
   "source": [
    "**Ejemplos mal clasificados en cada clase**"
   ]
  },
  {
   "cell_type": "code",
   "execution_count": 62,
   "metadata": {},
   "outputs": [
    {
     "data": {
      "text/plain": [
       "<matplotlib.image.AxesImage at 0x22f46ba9c48>"
      ]
     },
     "execution_count": 62,
     "metadata": {},
     "output_type": "execute_result"
    },
    {
     "data": {
      "image/png": "[encoded data removed]",
      "text/plain": [
       "<Figure size 432x288 with 2 Axes>"
      ]
     },
     "metadata": {
      "needs_background": "light"
     },
     "output_type": "display_data"
    }
   ],
   "source": [
    "fig, axs = plt.subplots(1,2)\n",
    "axs[0].imshow(X_test[erroneos[0]], cmap='gray')\n",
    "axs[1].imshow(X_test[erroneos[1]+1], cmap = 'gray')"
   ]
  },
  {
   "cell_type": "markdown",
   "metadata": {},
   "source": [
    "Como podemos notar, los ejemplos mal clasificados corresponden a imágenes en las cuales el reescalamiento modificó demasiado las escalas originales (las estiró horizontalmente). "
   ]
  },
  {
   "cell_type": "markdown",
   "metadata": {},
   "source": [
    "## Entrenamiento Random Forest\n",
    "\n",
    "Por último, se entrena un clasificador utilizando Random Forest, el cual se entrena con sus parámetros por defecto.\n",
    "Nuevamente, se genera un pipeline con un *StandarScaler* previo al clasificador."
   ]
  },
  {
   "cell_type": "code",
   "execution_count": 16,
   "metadata": {},
   "outputs": [],
   "source": [
    "from sklearn.ensemble import RandomForestClassifier\n",
    "from sklearn.preprocessing import StandardScaler\n",
    "from sklearn.pipeline import make_pipeline\n",
    "\n",
    "scaler2 = StandardScaler()\n",
    "rndF = RandomForestClassifier()\n",
    "clf_r = make_pipeline(scaler2, rndF)"
   ]
  },
  {
   "cell_type": "code",
   "execution_count": 17,
   "metadata": {},
   "outputs": [
    {
     "data": {
      "text/plain": [
       "Pipeline(steps=[('standardscaler', StandardScaler()),\n",
       "                ('randomforestclassifier', RandomForestClassifier())])"
      ]
     },
     "execution_count": 17,
     "metadata": {},
     "output_type": "execute_result"
    }
   ],
   "source": [
    "clf_r.fit(train_features, y_train)"
   ]
  },
  {
   "cell_type": "code",
   "execution_count": 18,
   "metadata": {},
   "outputs": [
    {
     "name": "stdout",
     "output_type": "stream",
     "text": [
      "Accuracy en train  1.0\n",
      "Accuracy en test  0.9642857142857143\n"
     ]
    }
   ],
   "source": [
    "print('Accuracy en train ', clf_r.score(train_features, y_train))\n",
    "print('Accuracy en test ', clf_r.score(test_features, y_test))"
   ]
  },
  {
   "cell_type": "markdown",
   "metadata": {},
   "source": [
    "Vemos que el rendimiento en test es levemente menor (~2%) que con SVM.\n",
    "\n",
    "La matriz de confusión resultante para el conjunto de prueba es:"
   ]
  },
  {
   "cell_type": "code",
   "execution_count": 30,
   "metadata": {},
   "outputs": [
    {
     "data": {
      "text/plain": [
       "<AxesSubplot:>"
      ]
     },
     "execution_count": 30,
     "metadata": {},
     "output_type": "execute_result"
    },
    {
     "data": {
      "image/png": "[encoded data removed]",
      "text/plain": [
       "<Figure size 432x288 with 2 Axes>"
      ]
     },
     "metadata": {
      "needs_background": "light"
     },
     "output_type": "display_data"
    }
   ],
   "source": [
    "import seaborn as sns\n",
    "from sklearn.metrics import confusion_matrix\n",
    "\n",
    "y_pred_rnd = clf_r.predict(test_features)\n",
    "m2 = confusion_matrix(y_test, y_pred_rnd)\n",
    "sns.heatmap(m2, annot=True)"
   ]
  },
  {
   "cell_type": "markdown",
   "metadata": {},
   "source": [
    "Ahora se tomarán dos de los ejemplos mal clasificados para inspeccionarlos visualmente."
   ]
  },
  {
   "cell_type": "code",
   "execution_count": 47,
   "metadata": {},
   "outputs": [],
   "source": [
    "a = list(y_test != y_pred_rnd)\n",
    "erroneos = [i for i, val in enumerate(a) if val]\n"
   ]
  },
  {
   "cell_type": "code",
   "execution_count": 54,
   "metadata": {},
   "outputs": [
    {
     "data": {
      "text/plain": [
       "<matplotlib.image.AxesImage at 0x1b239bd8c48>"
      ]
     },
     "execution_count": 54,
     "metadata": {},
     "output_type": "execute_result"
    },
    {
     "data": {
      "image/png": "[encoded data removed]",
      "text/plain": [
       "<Figure size 1080x576 with 4 Axes>"
      ]
     },
     "metadata": {
      "needs_background": "light"
     },
     "output_type": "display_data"
    }
   ],
   "source": [
    "fig, axs = plt.subplots(1,4, figsize= (15,8))\n",
    "axs[0].imshow(X_test[erroneos[0]], cmap='gray')\n",
    "axs[1].imshow(X_test[erroneos[1]], cmap = 'gray')\n",
    "axs[2].imshow(X_test[erroneos[2]], cmap='gray')\n",
    "axs[3].imshow(X_test[erroneos[3]], cmap = 'gray')"
   ]
  },
  {
   "cell_type": "markdown",
   "metadata": {},
   "source": [
    "En este caso se puede observar los ejemplos mal clasificados, los cuales, cualitativamente no parecen ser ejemplos \"difíciles\", a exepción de la imagen de una persona, la cual no se puede distinguir muy bien su contenido."
   ]
  },
  {
   "cell_type": "markdown",
   "metadata": {},
   "source": [
    "Como se puede notar, el clasificador basado en SVM funcionó de mejor manera, logrando un mejor rendimiento. Aún así, en ambos casos los resultados son bastante buenos debido al alto porcentaje en accuracy.\n",
    "\n",
    "Analizando los ejemplos en los que se equivocaron los clasificadores, se puede ver que hay imagenes que visualmente no quedan en su escala original, lo que pasa en el caso de las sillas y las personas principalmente, dado que las imagenes originales de estas clases tenian la dimensión vertical mayor a la horizontal, en cambio para los vehículos, estos en su mayoría tenían el eje horizontal de mayor longitud que el vertical. Lo anterior coincide con los resultados, puesto que los errores fueron en estas clases en las que el reescalado afectó mucho.\n"
   ]
  },
  {
   "cell_type": "markdown",
   "metadata": {},
   "source": [
    "# Conclusiones"
   ]
  },
  {
   "cell_type": "markdown",
   "metadata": {},
   "source": [
    "En esta tarea se logró la correcta implementación del calculo de las características de HOG, incluyendo todos sus pasos intermedios. Además, se usaron estas características para entrenar dos clasificadores diferentes y se compararon sus resultados.\n",
    "\n",
    "Los principales aprendizajes en esta tarea corresponden principalmente al uso de este tipo de características en tareas de clasificación, las cuales pueden ser muy útiles en aplicaciones que requieran usar poco poder de procesamiento (comparado con redes deep).\n",
    "\n",
    "En cuanto a las dificultades encontradas para la realización de la tarea, se tiene que lo más complicado fue el cálculo de los índices y pesos correspondientes de los votos para formar el histograma.\n",
    "\n",
    "Los resultados obtenidos fueron los esperados, ya que de acuerdo a la teoría se tenía que este tipo de características funcionaba bien para la tarea de clasificación, y ambos clasificadores lograron buenos rendimientos.\n",
    "\n",
    "\n",
    "De acuerdo al análisis de los ejemplos mal clasificados, una posible forma de mejorar los resultados, es buscar un tamaño de reescalado que sea medianamente adecuado para ambos tipos de imágenes (horizontales y verticales), por ejemplo, que la imagen resultante sea cuadrada.\n"
   ]
  }
 ],
 "metadata": {
  "kernelspec": {
   "display_name": "Python 3",
   "language": "python",
   "name": "python3"
  },
  "language_info": {
   "codemirror_mode": {
    "name": "ipython",
    "version": 3
   },
   "file_extension": ".py",
   "mimetype": "text/x-python",
   "name": "python",
   "nbconvert_exporter": "python",
   "pygments_lexer": "ipython3",
   "version": "3.7.8"
  },
  "toc": {
   "base_numbering": 1,
   "nav_menu": {},
   "number_sections": true,
   "sideBar": true,
   "skip_h1_title": false,
   "title_cell": "Table of Contents",
   "title_sidebar": "Contents",
   "toc_cell": false,
   "toc_position": {},
   "toc_section_display": true,
   "toc_window_display": false
  }
 },
 "nbformat": 4,
 "nbformat_minor": 4
}
